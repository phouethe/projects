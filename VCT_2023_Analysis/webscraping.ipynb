{
 "cells": [
  {
   "cell_type": "code",
   "execution_count": 4,
   "metadata": {},
   "outputs": [],
   "source": [
    "## VALORANT PROJECT\n",
    "\n",
    "## Webscraping for peripheral data\n",
    "## Site used will be from https://prosettings.net/lists/valorant/"
   ]
  },
  {
   "cell_type": "code",
   "execution_count": 2,
   "metadata": {},
   "outputs": [
    {
     "name": "stdout",
     "output_type": "stream",
     "text": [
      "[                Team   Player                              Mouse      Hz  \\\n",
      "0          FaZe Clan   Shanks                      Logitech G703  1000.0   \n",
      "1               MOUZ    iluri      Razer Deathadder V3 Pro Black  4000.0   \n",
      "2               MOUZ   Obnoks      Razer Deathadder V3 Pro Black  1000.0   \n",
      "3               MOUZ    murii                G-Wolves Hati S+ 4K  1000.0   \n",
      "4         G2 Esports    trent           Razer Viper V2 Pro Black  1000.0   \n",
      "..               ...      ...                                ...     ...   \n",
      "320  Content Creator  Vorwenn  Logitech G Pro X Superlight Black  1000.0   \n",
      "321  Content Creator  Drakonz               Razer Viper Ultimate  1000.0   \n",
      "322           Solary   memset  Logitech G Pro X Superlight Black  1000.0   \n",
      "323          Retired  mixwell                      Logitech G703  1000.0   \n",
      "324     Riddle Order  Seoldam    Logitech G Pro X Superlight Red  1000.0   \n",
      "\n",
      "        DPI   Sens   eDPI  Scoped Sens                Monitor Resolution  \\\n",
      "0     400.0  0.450  180.0        1.000           ZOWIE XL2546  1920x1080   \n",
      "1     800.0  0.320  256.0        1.000          ZOWIE XL2546K   1280x960   \n",
      "2     400.0  0.333  131.2        1.000            AOC AG254FG  1920x1080   \n",
      "3     800.0  0.375  300.0        1.000  ASUS ROG STRIX XG248Q  1280x1024   \n",
      "4    1600.0  0.125  200.0        1.009           ZOWIE XL2546   1280x960   \n",
      "..      ...    ...    ...          ...                    ...        ...   \n",
      "320   800.0  0.400  320.0        1.000          ZOWIE XL2540K   1280x960   \n",
      "321   800.0  0.346  274.8        1.000           ZOWIE XL2546  1920x1080   \n",
      "322   400.0  0.390  156.0          NaN          ZOWIE XL2546K  1920x1080   \n",
      "323   400.0  0.690  276.0        1.000          AOC AG251FZ2E  1920x1080   \n",
      "324  1600.0  0.170  272.0        0.950          ZOWIE XL2566K  1920x1080   \n",
      "\n",
      "                        Mousepad                         Keyboard  \\\n",
      "0            ZOWIE G-SR-SE Rouge            Razer Huntsman V2 TKL   \n",
      "1              Razer Gigantus V2              Razer Huntsman Mini   \n",
      "2              Razer Gigantus V2            Razer Huntsman V2 TKL   \n",
      "3              Razer Gigantus V2            Razer Huntsman V2 TKL   \n",
      "4                  Lamzu Energon                    Wooting 60 HE   \n",
      "..                           ...                              ...   \n",
      "320  Artisan Ninja FX Zero XSoft                Razer Huntsman TE   \n",
      "321   Artisan Ninja FX Zero Soft         SteelSeries Apex Pro TKL   \n",
      "322            Razer Gigantus V2                Razer Huntsman TE   \n",
      "323       Logitech G640 Original        Logitech G Pro X Keyboard   \n",
      "324        SteelSeries QcK Heavy  SteelSeries Apex Pro TKL (2023)   \n",
      "\n",
      "                               Headset  \n",
      "0                      HyperX Cloud II  \n",
      "1              Razer BlackShark V2 Pro  \n",
      "2              Razer BlackShark V2 Pro  \n",
      "3                  Razer BlackShark V2  \n",
      "4                      HyperX Cloud II  \n",
      "..                                 ...  \n",
      "320               HyperX Cloud Alpha S  \n",
      "321                 HyperX Cloud Alpha  \n",
      "322                Razer BlackShark V2  \n",
      "323           Logitech G Pro X Headset  \n",
      "324  Logitech G Pro X Wireless Headset  \n",
      "\n",
      "[325 rows x 13 columns]]\n"
     ]
    }
   ],
   "source": [
    "## Webscraping will be done using selenium in order to scrape the JavaScript table from the website\n",
    "from selenium import webdriver\n",
    "from selenium.webdriver.firefox.service import Service\n",
    "from selenium.webdriver.common.by import By\n",
    "import time\n",
    "import pandas as pd\n",
    "\n",
    "df = pd.DataFrame()\n",
    "driver = webdriver.Firefox()\n",
    "driver.get('https://prosettings.net/lists/valorant/')\n",
    "time.sleep(4)\n",
    "table = driver.find_element(By.CSS_SELECTOR, 'table')\n",
    "df = pd.read_html(table.get_attribute('outerHTML'))\n",
    "print(df)\n",
    "driver.close()"
   ]
  },
  {
   "cell_type": "code",
   "execution_count": 10,
   "metadata": {},
   "outputs": [],
   "source": [
    "## loading the dataframe into pandas\n",
    "peripherals = df[0]\n",
    "\n",
    "## saving as a csv to be used as a workable format\n",
    "peripherals.to_csv(\"peripherals.csv\")"
   ]
  }
 ],
 "metadata": {
  "kernelspec": {
   "display_name": "Python 3",
   "language": "python",
   "name": "python3"
  },
  "language_info": {
   "codemirror_mode": {
    "name": "ipython",
    "version": 3
   },
   "file_extension": ".py",
   "mimetype": "text/x-python",
   "name": "python",
   "nbconvert_exporter": "python",
   "pygments_lexer": "ipython3",
   "version": "3.8.5"
  }
 },
 "nbformat": 4,
 "nbformat_minor": 4
}
